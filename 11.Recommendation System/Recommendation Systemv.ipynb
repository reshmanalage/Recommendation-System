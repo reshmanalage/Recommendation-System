{
 "cells": [
  {
   "cell_type": "code",
   "execution_count": 1,
   "id": "8ac64bd2",
   "metadata": {},
   "outputs": [
    {
     "name": "stdout",
     "output_type": "stream",
     "text": [
      "Mean Precision at 5 using TF-IDF: 0.06\n"
     ]
    }
   ],
   "source": [
    "# Import necessary libraries\n",
    "import pandas as pd\n",
    "import numpy as np\n",
    "from sklearn.metrics.pairwise import cosine_similarity\n",
    "from sklearn.feature_extraction.text import TfidfVectorizer\n",
    "from sklearn.model_selection import train_test_split\n",
    "\n",
    "# Load the dataset\n",
    "anime_df = pd.read_csv('anime.csv')\n",
    "\n",
    "# Fill missing values in the genre column with an empty string\n",
    "anime_df['genre'] = anime_df['genre'].fillna('')\n",
    "\n",
    "# Define a function to clean the genres\n",
    "def clean_genres(genres):\n",
    "    if isinstance(genres, str):\n",
    "        return genres.replace(\", \", \" \")\n",
    "    else:\n",
    "        return \"\"\n",
    "\n",
    "# Apply the function to clean the genres\n",
    "anime_df['cleaned_genre'] = anime_df['genre'].apply(clean_genres)\n",
    "\n",
    "# Split the data into training and test sets\n",
    "train_df, test_df = train_test_split(anime_df, test_size=0.2, random_state=42)\n",
    "\n",
    "# Create the TfidfVectorizer instance to capture genre importance better\n",
    "tfidf_vectorizer = TfidfVectorizer()\n",
    "\n",
    "# Fit and transform the cleaned genres using TF-IDF\n",
    "tfidf_matrix = tfidf_vectorizer.fit_transform(anime_df['cleaned_genre'])\n",
    "\n",
    "# Compute the cosine similarity matrix using TF-IDF\n",
    "cosine_sim_tfidf = cosine_similarity(tfidf_matrix, tfidf_matrix)\n",
    "\n",
    "# Function to get recommendations based on anime name using TF-IDF cosine similarity\n",
    "def get_recommendations_tfidf(anime_name, cosine_sim=cosine_sim_tfidf, num_recommendations=10):\n",
    "    if anime_name not in anime_df['name'].values:\n",
    "        return []\n",
    "\n",
    "    idx = anime_df[anime_df['name'] == anime_name].index[0]\n",
    "    sim_scores = list(enumerate(cosine_sim_tfidf[idx]))\n",
    "    sim_scores = sorted(sim_scores, key=lambda x: x[1], reverse=True)\n",
    "    sim_scores = sim_scores[1:num_recommendations+1]\n",
    "    anime_indices = [i[0] for i in sim_scores]\n",
    "    return anime_df['name'].iloc[anime_indices]\n",
    "\n",
    "# Evaluation metric\n",
    "def precision_at_k(recommended_list, relevant_list, k):\n",
    "    recommended_set = set(recommended_list[:k])\n",
    "    relevant_set = set(relevant_list)\n",
    "    common_items = recommended_set.intersection(relevant_set)\n",
    "    return len(common_items) / k\n",
    "\n",
    "# Relevant list for 'Naruto' for evaluation purposes\n",
    "relevant_animes = ['One Piece', 'Attack on Titan', 'My Hero Academia', 'Dragon Ball', 'Fairy Tail']\n",
    "\n",
    "# Evaluate the precision on the test set using TF-IDF\n",
    "def evaluate_precision_tfidf(test_df, k=5):\n",
    "    precisions = []\n",
    "\n",
    "    for anime_name in test_df['name'].unique():\n",
    "        if anime_name in anime_df['name'].values:\n",
    "            relevant_animes = test_df[test_df['name'] == anime_name]['name'].values\n",
    "            recommended_animes = get_recommendations_tfidf(anime_name, num_recommendations=k)\n",
    "            \n",
    "            if not recommended_animes.empty and len(relevant_animes) > 0:\n",
    "                precision = precision_at_k(recommended_animes, relevant_animes, k)\n",
    "                precisions.append(precision)\n",
    "            else:\n",
    "                print(f\"No recommendations or relevant animes for {anime_name}\")\n",
    "\n",
    "    return np.mean(precisions) if precisions else 0.0\n",
    "\n",
    "# Calculate the mean precision at k for the test set using TF-IDF\n",
    "k=5\n",
    "mean_precision_tfidf = evaluate_precision_tfidf(test_df)\n",
    "print(f'Mean Precision at {k} using TF-IDF: {mean_precision_tfidf:.2f}')\n"
   ]
  },
  {
   "cell_type": "code",
   "execution_count": 2,
   "id": "ba388595",
   "metadata": {},
   "outputs": [
    {
     "data": {
      "text/plain": [
       "Index(['anime_id', 'name', 'genre', 'type', 'episodes', 'rating', 'members',\n",
       "       'cleaned_genre'],\n",
       "      dtype='object')"
      ]
     },
     "execution_count": 2,
     "metadata": {},
     "output_type": "execute_result"
    }
   ],
   "source": [
    "anime_df.columns"
   ]
  },
  {
   "cell_type": "code",
   "execution_count": 3,
   "id": "ade5b8d2",
   "metadata": {},
   "outputs": [
    {
     "name": "stdout",
     "output_type": "stream",
     "text": [
      "   anime_id                              name  \\\n",
      "0     32281                    Kimi no Na wa.   \n",
      "1      5114  Fullmetal Alchemist: Brotherhood   \n",
      "2     28977                          Gintama°   \n",
      "3      9253                       Steins;Gate   \n",
      "4      9969                     Gintama&#039;   \n",
      "\n",
      "                                               genre   type episodes  rating  \\\n",
      "0               Drama, Romance, School, Supernatural  Movie        1    9.37   \n",
      "1  Action, Adventure, Drama, Fantasy, Magic, Mili...     TV       64    9.26   \n",
      "2  Action, Comedy, Historical, Parody, Samurai, S...     TV       51    9.25   \n",
      "3                                   Sci-Fi, Thriller     TV       24    9.17   \n",
      "4  Action, Comedy, Historical, Parody, Samurai, S...     TV       51    9.16   \n",
      "\n",
      "   members  \n",
      "0   200630  \n",
      "1   793665  \n",
      "2   114262  \n",
      "3   673572  \n",
      "4   151266  \n"
     ]
    }
   ],
   "source": [
    "import pandas as pd\n",
    "\n",
    "# Load the dataset\n",
    "anime_df = pd.read_csv('anime.csv')\n",
    "\n",
    "# Display the first few rows of the dataset\n",
    "print(anime_df.head())\n"
   ]
  },
  {
   "cell_type": "code",
   "execution_count": 4,
   "id": "c9dac887",
   "metadata": {},
   "outputs": [
    {
     "name": "stdout",
     "output_type": "stream",
     "text": [
      "           anime_id        rating       members\n",
      "count  12294.000000  12064.000000  1.229400e+04\n",
      "mean   14058.221653      6.473902  1.807134e+04\n",
      "std    11455.294701      1.026746  5.482068e+04\n",
      "min        1.000000      1.670000  5.000000e+00\n",
      "25%     3484.250000      5.880000  2.250000e+02\n",
      "50%    10260.500000      6.570000  1.550000e+03\n",
      "75%    24794.500000      7.180000  9.437000e+03\n",
      "max    34527.000000     10.000000  1.013917e+06\n",
      "anime_id      int64\n",
      "name         object\n",
      "genre        object\n",
      "type         object\n",
      "episodes     object\n",
      "rating      float64\n",
      "members       int64\n",
      "dtype: object\n"
     ]
    }
   ],
   "source": [
    "# Summary statistics\n",
    "print(anime_df.describe())\n",
    "\n",
    "# Data types of columns\n",
    "print(anime_df.dtypes)\n"
   ]
  },
  {
   "cell_type": "code",
   "execution_count": 5,
   "id": "4ae27fda",
   "metadata": {},
   "outputs": [],
   "source": [
    "# Define a function to clean the genres\n",
    "def clean_genres(genres):\n",
    "    if isinstance(genres, str):\n",
    "        return genres.replace(\", \", \" \")\n",
    "    else:\n",
    "        return \"\"\n",
    "\n",
    "# Apply the function to clean the genres\n",
    "anime_df['cleaned_genre'] = anime_df['genre'].apply(clean_genres)\n"
   ]
  },
  {
   "cell_type": "code",
   "execution_count": 6,
   "id": "3f8edeb6",
   "metadata": {},
   "outputs": [
    {
     "name": "stdout",
     "output_type": "stream",
     "text": [
      "62\n"
     ]
    }
   ],
   "source": [
    "# Check for missing values in the genre column\n",
    "print(anime_df['genre'].isna().sum())\n",
    "\n",
    "# Fill missing values in the genre column with an empty string before applying the function\n",
    "anime_df['genre'] = anime_df['genre'].fillna('')\n",
    "\n",
    "# Apply the function to clean the genres\n",
    "anime_df['cleaned_genre'] = anime_df['genre'].apply(clean_genres)\n"
   ]
  },
  {
   "cell_type": "code",
   "execution_count": 7,
   "id": "b790b9e0",
   "metadata": {},
   "outputs": [],
   "source": [
    "from sklearn.feature_extraction.text import CountVectorizer\n",
    "from sklearn.metrics.pairwise import cosine_similarity\n",
    "\n",
    "# Create the CountVectorizer instance\n",
    "vectorizer = CountVectorizer()\n",
    "\n",
    "# Fit and transform the cleaned genres\n",
    "genre_matrix = vectorizer.fit_transform(anime_df['cleaned_genre'])\n",
    "\n",
    "# Compute the cosine similarity matrix\n",
    "cosine_sim = cosine_similarity(genre_matrix, genre_matrix)\n"
   ]
  },
  {
   "cell_type": "code",
   "execution_count": 8,
   "id": "3e30a4d2",
   "metadata": {},
   "outputs": [],
   "source": [
    "# Function to get recommendations based on anime name\n",
    "def get_recommendations(anime_name, cosine_sim=cosine_sim):\n",
    "    # Get the index of the anime that matches the name\n",
    "    idx = anime_df[anime_df['name'] == anime_name].index[0]\n",
    "\n",
    "    # Get the pairwise similarity scores of all animes with that anime\n",
    "    sim_scores = list(enumerate(cosine_sim[idx]))\n",
    "\n",
    "    # Sort the animes based on the similarity scores\n",
    "    sim_scores = sorted(sim_scores, key=lambda x: x[1], reverse=True)\n",
    "\n",
    "    # Get the scores of the 5 most similar animes\n",
    "    sim_scores = sim_scores[1:6]\n",
    "\n",
    "    # Get the anime indices\n",
    "    anime_indices = [i[0] for i in sim_scores]\n",
    "\n",
    "    # Return the top 5 most similar animes\n",
    "    return anime_df['name'].iloc[anime_indices]\n"
   ]
  },
  {
   "cell_type": "code",
   "execution_count": 9,
   "id": "d8e8cba1",
   "metadata": {},
   "outputs": [
    {
     "name": "stdout",
     "output_type": "stream",
     "text": [
      "Recommendations for 'Naruto':\n",
      " 615                                    Naruto: Shippuuden\n",
      "841                                                Naruto\n",
      "1103    Boruto: Naruto the Movie - Naruto ga Hokage ni...\n",
      "1343                                          Naruto x UT\n",
      "1472          Naruto: Shippuuden Movie 4 - The Lost Tower\n",
      "Name: name, dtype: object\n"
     ]
    }
   ],
   "source": [
    "# Function to get recommendations based on anime name\n",
    "def get_recommendations(anime_name, cosine_sim=cosine_sim):\n",
    "    # Check if the anime name exists in the dataset\n",
    "    if anime_name not in anime_df['name'].values:\n",
    "        return f\"Anime '{anime_name}' not found in the dataset.\"\n",
    "\n",
    "    # Get the index of the anime that matches the name\n",
    "    idx = anime_df[anime_df['name'] == anime_name].index[0]\n",
    "\n",
    "    # Get the pairwise similarity scores of all animes with that anime\n",
    "    sim_scores = list(enumerate(cosine_sim[idx]))\n",
    "\n",
    "    # Sort the animes based on the similarity scores\n",
    "    sim_scores = sorted(sim_scores, key=lambda x: x[1], reverse=True)\n",
    "\n",
    "    # Get the scores of the 5 most similar animes\n",
    "    sim_scores = sim_scores[1:6]\n",
    "\n",
    "    # Get the anime indices\n",
    "    anime_indices = [i[0] for i in sim_scores]\n",
    "\n",
    "    # Return the top 5 most similar animes\n",
    "    return anime_df['name'].iloc[anime_indices]\n",
    "\n",
    "# Test the recommendation system\n",
    "print(\"Recommendations for 'Naruto':\\n\", get_recommendations('Naruto'))\n"
   ]
  },
  {
   "cell_type": "code",
   "execution_count": 10,
   "id": "60affb62",
   "metadata": {},
   "outputs": [
    {
     "name": "stdout",
     "output_type": "stream",
     "text": [
      "Recommendations for 'Naruto':\n",
      " 615                                    Naruto: Shippuuden\n",
      "841                                                Naruto\n",
      "1103    Boruto: Naruto the Movie - Naruto ga Hokage ni...\n",
      "1343                                          Naruto x UT\n",
      "1472          Naruto: Shippuuden Movie 4 - The Lost Tower\n",
      "Name: name, dtype: object\n"
     ]
    }
   ],
   "source": [
    "# Test the recommendation system\n",
    "print(\"Recommendations for 'Naruto':\\n\", get_recommendations('Naruto'))\n"
   ]
  },
  {
   "cell_type": "code",
   "execution_count": 11,
   "id": "8b4881f0",
   "metadata": {},
   "outputs": [],
   "source": [
    "def precision_at_k(recommended_list, relevant_list, k):\n",
    "    recommended_set = set(recommended_list[:k])\n",
    "    relevant_set = set(relevant_list)\n",
    "    common_items = recommended_set.intersection(relevant_set)\n",
    "    return len(common_items) / k\n"
   ]
  },
  {
   "cell_type": "code",
   "execution_count": 12,
   "id": "4498a253",
   "metadata": {},
   "outputs": [
    {
     "name": "stdout",
     "output_type": "stream",
     "text": [
      "Precision at 5: 0.00\n"
     ]
    }
   ],
   "source": [
    "# Example relevant list for 'Naruto'\n",
    "relevant_animes = ['One Piece', 'Attack on Titan', 'My Hero Academia']\n",
    "\n",
    "# Get recommendations\n",
    "recommended_animes = get_recommendations('Naruto')\n",
    "\n",
    "# Calculate precision at k\n",
    "k = 5\n",
    "precision = precision_at_k(recommended_animes, relevant_animes, k)\n",
    "print(f'Precision at {k}: {precision:.2f}')\n"
   ]
  },
  {
   "cell_type": "code",
   "execution_count": 13,
   "id": "d564c7e0",
   "metadata": {},
   "outputs": [
    {
     "name": "stdout",
     "output_type": "stream",
     "text": [
      "Precision at 5: 0.00\n"
     ]
    }
   ],
   "source": [
    "# Function to get recommendations based on anime name\n",
    "def get_recommendations(anime_name, cosine_sim=cosine_sim):\n",
    "    # Check if the anime name exists in the dataset\n",
    "    if anime_name not in anime_df['name'].values:\n",
    "        return f\"Anime '{anime_name}' not found in the dataset.\"\n",
    "\n",
    "    # Get the index of the anime that matches the name\n",
    "    idx = anime_df[anime_df['name'] == anime_name].index[0]\n",
    "\n",
    "    # Get the pairwise similarity scores of all animes with that anime\n",
    "    sim_scores = list(enumerate(cosine_sim[idx]))\n",
    "\n",
    "    # Sort the animes based on the similarity scores\n",
    "    sim_scores = sorted(sim_scores, key=lambda x: x[1], reverse=True)\n",
    "\n",
    "    # Get the scores of the 5 most similar animes\n",
    "    sim_scores = sim_scores[1:6]\n",
    "\n",
    "    # Get the anime indices\n",
    "    anime_indices = [i[0] for i in sim_scores]\n",
    "\n",
    "    # Return the top 5 most similar animes\n",
    "    return anime_df['name'].iloc[anime_indices]\n",
    "\n",
    "# Evaluation metric\n",
    "def precision_at_k(recommended_list, relevant_list, k):\n",
    "    recommended_set = set(recommended_list[:k])\n",
    "    relevant_set = set(relevant_list)\n",
    "    common_items = recommended_set.intersection(relevant_set)\n",
    "    return len(common_items) / k\n",
    "\n",
    "# Relevant list for 'Naruto' for evaluation purposes\n",
    "relevant_animes = ['One Piece', 'Attack on Titan', 'My Hero Academia']\n",
    "\n",
    "# Get recommendations\n",
    "recommended_animes = get_recommendations('Naruto')\n",
    "\n",
    "# Calculate precision at k\n",
    "k = 5\n",
    "precision = precision_at_k(recommended_animes, relevant_animes, k)\n",
    "print(f'Precision at {k}: {precision:.2f}')\n"
   ]
  },
  {
   "cell_type": "code",
   "execution_count": 14,
   "id": "ae872a5c",
   "metadata": {},
   "outputs": [
    {
     "name": "stdout",
     "output_type": "stream",
     "text": [
      "                                                    name  \\\n",
      "0                                         Kimi no Na wa.   \n",
      "1                       Fullmetal Alchemist: Brotherhood   \n",
      "2                                               Gintama°   \n",
      "3                                            Steins;Gate   \n",
      "4                                          Gintama&#039;   \n",
      "...                                                  ...   \n",
      "12289       Toushindai My Lover: Minami tai Mecha-Minami   \n",
      "12290                                        Under World   \n",
      "12291                     Violence Gekiga David no Hoshi   \n",
      "12292  Violence Gekiga Shin David no Hoshi: Inma Dens...   \n",
      "12293                   Yasuji no Pornorama: Yacchimae!!   \n",
      "\n",
      "                                           cleaned_genre  \n",
      "0                      Drama Romance School Supernatural  \n",
      "1      Action Adventure Drama Fantasy Magic Military ...  \n",
      "2      Action Comedy Historical Parody Samurai Sci-Fi...  \n",
      "3                                        Sci-Fi Thriller  \n",
      "4      Action Comedy Historical Parody Samurai Sci-Fi...  \n",
      "...                                                  ...  \n",
      "12289                                             Hentai  \n",
      "12290                                             Hentai  \n",
      "12291                                             Hentai  \n",
      "12292                                             Hentai  \n",
      "12293                                             Hentai  \n",
      "\n",
      "[12294 rows x 2 columns]\n",
      "[(486, 0.9999999999999997), (615, 0.9999999999999997), (841, 0.9999999999999997), (1103, 0.9999999999999997), (1343, 0.9999999999999997), (1472, 0.9999999999999997), (1573, 0.9999999999999997), (2458, 0.9999999999999997), (2997, 0.9999999999999997), (7628, 0.9258200997725515)]\n"
     ]
    }
   ],
   "source": [
    "# Print cleaned genres\n",
    "print(anime_df[['name', 'cleaned_genre']])\n",
    "\n",
    "# Check the similarity scores for 'Naruto'\n",
    "naruto_index = anime_df[anime_df['name'] == 'Naruto'].index[0]\n",
    "naruto_sim_scores = list(enumerate(cosine_sim[naruto_index]))\n",
    "naruto_sim_scores = sorted(naruto_sim_scores, key=lambda x: x[1], reverse=True)\n",
    "print(naruto_sim_scores[:10])  # Print top 10 similarity scores\n"
   ]
  },
  {
   "cell_type": "code",
   "execution_count": 15,
   "id": "b671cdf8",
   "metadata": {},
   "outputs": [
    {
     "name": "stdout",
     "output_type": "stream",
     "text": [
      "615                                    Naruto: Shippuuden\n",
      "841                                                Naruto\n",
      "1103    Boruto: Naruto the Movie - Naruto ga Hokage ni...\n",
      "1343                                          Naruto x UT\n",
      "1472          Naruto: Shippuuden Movie 4 - The Lost Tower\n",
      "1573    Naruto: Shippuuden Movie 3 - Hi no Ishi wo Tsu...\n",
      "2458                 Naruto Shippuuden: Sunny Side Battle\n",
      "2997    Naruto Soyokazeden Movie: Naruto to Mashin to ...\n",
      "7628                              Kyutai Panic Adventure!\n",
      "206                                         Dragon Ball Z\n",
      "Name: name, dtype: object\n"
     ]
    }
   ],
   "source": [
    "# Function to get recommendations based on anime name\n",
    "def get_recommendations(anime_name, cosine_sim=cosine_sim, num_recommendations=10):\n",
    "    if anime_name not in anime_df['name'].values:\n",
    "        return f\"Anime '{anime_name}' not found in the dataset.\"\n",
    "\n",
    "    idx = anime_df[anime_df['name'] == anime_name].index[0]\n",
    "    sim_scores = list(enumerate(cosine_sim[idx]))\n",
    "    sim_scores = sorted(sim_scores, key=lambda x: x[1], reverse=True)\n",
    "    sim_scores = sim_scores[1:num_recommendations+1]\n",
    "    anime_indices = [i[0] for i in sim_scores]\n",
    "    return anime_df['name'].iloc[anime_indices]\n",
    "\n",
    "# Get more recommendations\n",
    "num_recommendations = 10\n",
    "recommended_animes = get_recommendations('Naruto', num_recommendations=num_recommendations)\n",
    "print(recommended_animes)\n"
   ]
  },
  {
   "cell_type": "code",
   "execution_count": 16,
   "id": "91160f0c",
   "metadata": {},
   "outputs": [
    {
     "name": "stdout",
     "output_type": "stream",
     "text": [
      "Precision at 5: 0.00\n"
     ]
    }
   ],
   "source": [
    "# Calculate precision at k with more recommendations\n",
    "precision = precision_at_k(recommended_animes, relevant_animes, k)\n",
    "print(f'Precision at {k}: {precision:.2f}')\n"
   ]
  },
  {
   "cell_type": "code",
   "execution_count": 17,
   "id": "e667c02e",
   "metadata": {},
   "outputs": [
    {
     "name": "stdout",
     "output_type": "stream",
     "text": [
      "Recommendations for 'Naruto':\n",
      "615                                    Naruto: Shippuuden\n",
      "841                                                Naruto\n",
      "1103    Boruto: Naruto the Movie - Naruto ga Hokage ni...\n",
      "1343                                          Naruto x UT\n",
      "1472          Naruto: Shippuuden Movie 4 - The Lost Tower\n",
      "1573    Naruto: Shippuuden Movie 3 - Hi no Ishi wo Tsu...\n",
      "2458                 Naruto Shippuuden: Sunny Side Battle\n",
      "2997    Naruto Soyokazeden Movie: Naruto to Mashin to ...\n",
      "7628                              Kyutai Panic Adventure!\n",
      "206                                         Dragon Ball Z\n",
      "Name: name, dtype: object\n",
      "Precision at 5: 0.00\n",
      "                                                    name  \\\n",
      "0                                         Kimi no Na wa.   \n",
      "1                       Fullmetal Alchemist: Brotherhood   \n",
      "2                                               Gintama°   \n",
      "3                                            Steins;Gate   \n",
      "4                                          Gintama&#039;   \n",
      "...                                                  ...   \n",
      "12289       Toushindai My Lover: Minami tai Mecha-Minami   \n",
      "12290                                        Under World   \n",
      "12291                     Violence Gekiga David no Hoshi   \n",
      "12292  Violence Gekiga Shin David no Hoshi: Inma Dens...   \n",
      "12293                   Yasuji no Pornorama: Yacchimae!!   \n",
      "\n",
      "                                           cleaned_genre  \n",
      "0                      Drama Romance School Supernatural  \n",
      "1      Action Adventure Drama Fantasy Magic Military ...  \n",
      "2      Action Comedy Historical Parody Samurai Sci-Fi...  \n",
      "3                                        Sci-Fi Thriller  \n",
      "4      Action Comedy Historical Parody Samurai Sci-Fi...  \n",
      "...                                                  ...  \n",
      "12289                                             Hentai  \n",
      "12290                                             Hentai  \n",
      "12291                                             Hentai  \n",
      "12292                                             Hentai  \n",
      "12293                                             Hentai  \n",
      "\n",
      "[12294 rows x 2 columns]\n",
      "[(486, 0.9999999999999997), (615, 0.9999999999999997), (841, 0.9999999999999997), (1103, 0.9999999999999997), (1343, 0.9999999999999997), (1472, 0.9999999999999997), (1573, 0.9999999999999997), (2458, 0.9999999999999997), (2997, 0.9999999999999997), (7628, 0.9258200997725515)]\n"
     ]
    }
   ],
   "source": [
    "# Define a function to clean the genres\n",
    "def clean_genres(genres):\n",
    "    if isinstance(genres, str):\n",
    "        return genres.replace(\", \", \" \")\n",
    "    else:\n",
    "        return \"\"\n",
    "\n",
    "# Fill missing values in the genre column with an empty string\n",
    "anime_df['genre'] = anime_df['genre'].fillna('')\n",
    "\n",
    "# Apply the function to clean the genres\n",
    "anime_df['cleaned_genre'] = anime_df['genre'].apply(clean_genres)\n",
    "\n",
    "# Create the CountVectorizer instance\n",
    "vectorizer = CountVectorizer()\n",
    "\n",
    "# Fit and transform the cleaned genres\n",
    "genre_matrix = vectorizer.fit_transform(anime_df['cleaned_genre'])\n",
    "\n",
    "# Compute the cosine similarity matrix\n",
    "cosine_sim = cosine_similarity(genre_matrix, genre_matrix)\n",
    "\n",
    "# Function to get recommendations based on anime name\n",
    "def get_recommendations(anime_name, cosine_sim=cosine_sim, num_recommendations=10):\n",
    "    if anime_name not in anime_df['name'].values:\n",
    "        return f\"Anime '{anime_name}' not found in the dataset.\"\n",
    "\n",
    "    idx = anime_df[anime_df['name'] == anime_name].index[0]\n",
    "    sim_scores = list(enumerate(cosine_sim[idx]))\n",
    "    sim_scores = sorted(sim_scores, key=lambda x: x[1], reverse=True)\n",
    "    sim_scores = sim_scores[1:num_recommendations+1]\n",
    "    anime_indices = [i[0] for i in sim_scores]\n",
    "    return anime_df['name'].iloc[anime_indices]\n",
    "\n",
    "# Evaluation metric\n",
    "def precision_at_k(recommended_list, relevant_list, k):\n",
    "    recommended_set = set(recommended_list[:k])\n",
    "    relevant_set = set(relevant_list)\n",
    "    common_items = recommended_set.intersection(relevant_set)\n",
    "    return len(common_items) / k\n",
    "\n",
    "# Relevant list for 'Naruto' for evaluation purposes\n",
    "relevant_animes = ['One Piece', 'Attack on Titan', 'My Hero Academia']\n",
    "\n",
    "# Get more recommendations\n",
    "num_recommendations = 10\n",
    "recommended_animes = get_recommendations('Naruto', num_recommendations=num_recommendations)\n",
    "print(f\"Recommendations for 'Naruto':\\n{recommended_animes}\")\n",
    "\n",
    "# Calculate precision at k with more recommendations\n",
    "k = 5\n",
    "precision = precision_at_k(recommended_animes, relevant_animes, k)\n",
    "print(f'Precision at {k}: {precision:.2f}')\n",
    "\n",
    "# Print cleaned genres and similarity scores for sanity check\n",
    "print(anime_df[['name', 'cleaned_genre']])\n",
    "naruto_index = anime_df[anime_df['name'] == 'Naruto'].index[0]\n",
    "naruto_sim_scores = list(enumerate(cosine_sim[naruto_index]))\n",
    "naruto_sim_scores = sorted(naruto_sim_scores, key=lambda x: x[1], reverse=True)\n",
    "print(naruto_sim_scores[:10])\n"
   ]
  },
  {
   "cell_type": "code",
   "execution_count": 25,
   "id": "8aa9b8a3",
   "metadata": {},
   "outputs": [
    {
     "name": "stdout",
     "output_type": "stream",
     "text": [
      "Anime ' Drama Romance School Supernatural' not found in the dataset.\n"
     ]
    }
   ],
   "source": [
    "recommended_animes = get_recommendations(' Drama Romance School Supernatural', num_recommendations=10)\n",
    "print(recommended_animes)"
   ]
  },
  {
   "cell_type": "code",
   "execution_count": 20,
   "id": "d68e2962",
   "metadata": {},
   "outputs": [],
   "source": [
    "# 4. Evaluate Precision at k\n",
    "def precision_at_k(recommended_list, relevant_list, k):\n",
    "    recommended_set = set(recommended_list[:k])\n",
    "    relevant_set = set(relevant_list)\n",
    "    common_items = recommended_set.intersection(relevant_set)\n",
    "    return len(common_items) / k\n"
   ]
  },
  {
   "cell_type": "code",
   "execution_count": 21,
   "id": "be395bb7",
   "metadata": {},
   "outputs": [
    {
     "name": "stdout",
     "output_type": "stream",
     "text": [
      "Precision at 5: 0.00\n"
     ]
    }
   ],
   "source": [
    "relevant_animes = ['One Piece', 'Attack on Titan', 'My Hero Academia']\n",
    "precision = precision_at_k(recommended_animes, relevant_animes, k=5)\n",
    "print(f'Precision at 5: {precision:.2f}')"
   ]
  }
 ],
 "metadata": {
  "kernelspec": {
   "display_name": "Python 3 (ipykernel)",
   "language": "python",
   "name": "python3"
  },
  "language_info": {
   "codemirror_mode": {
    "name": "ipython",
    "version": 3
   },
   "file_extension": ".py",
   "mimetype": "text/x-python",
   "name": "python",
   "nbconvert_exporter": "python",
   "pygments_lexer": "ipython3",
   "version": "3.11.5"
  }
 },
 "nbformat": 4,
 "nbformat_minor": 5
}
